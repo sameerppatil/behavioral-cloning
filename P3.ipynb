{
 "cells": [
  {
   "cell_type": "code",
   "execution_count": 1,
   "metadata": {},
   "outputs": [
    {
     "name": "stderr",
     "output_type": "stream",
     "text": [
      "Using TensorFlow backend.\n"
     ]
    }
   ],
   "source": [
    "import csv\n",
    "import cv2\n",
    "import matplotlib.pyplot as plt\n",
    "\n",
    "import numpy as np\n",
    "from keras.models import Sequential\n",
    "from keras.layers import Flatten, Dense, Lambda\n",
    "from keras.layers import Convolution2D, Cropping2D\n",
    "from keras.layers.pooling import MaxPooling2D\n",
    "import sklearn as skl\n",
    "import random"
   ]
  },
  {
   "cell_type": "code",
   "execution_count": 2,
   "metadata": {
    "collapsed": true
   },
   "outputs": [],
   "source": [
    "# Read the CSV file for getting all the filenames and their respective steering values\n",
    "def read_csv_files():\n",
    "    lines = []\n",
    "    with open('data/driving_log.csv') as csvfile:\n",
    "        reader = csv.reader(csvfile)\n",
    "        for line in reader:\n",
    "            lines.append(line)\n",
    "    return lines\n",
    "\n",
    "def read_images():\n",
    "    images = []\n",
    "    measurements= []\n",
    "    for line in lines:\n",
    "        center_fname = line[0].split('/')[-1]\n",
    "        left_fname = line[1].split('/')[-1]\n",
    "        right_fname = line[2].split('/')[-1]\n",
    "        \n",
    "        # We store the 3rd column in line because that contains the steering value for all images \n",
    "        # (one from center camera, left camera and right camera)\n",
    "        measurement = float(line[3])\n",
    "        \n",
    "        center_fpath = 'data/IMG/' + center_fname\n",
    "        left_fpath = 'data/IMG/' + left_fname\n",
    "        right_fpath = 'data/IMG/' + right_fname\n",
    "        \n",
    "        center_image = cv2.imread(center_fpath)\n",
    "        left_image = cv2.imread(left_fpath)\n",
    "        right_image = cv2.imread(right_fpath)\n",
    "        \n",
    "        # Change the color space here to YUV from BGR\n",
    "        center_image = cv2.cvtColor(center_image, cv2.COLOR_BGR2YUV)\n",
    "        left_image = cv2.cvtColor(left_image, cv2.COLOR_BGR2YUV)\n",
    "        right_image = cv2.cvtColor(right_image, cv2.COLOR_BGR2YUV)\n",
    "        \n",
    "        # Here we offset each of the respective measurement for right and left camera by adding/subtracting the \n",
    "        # offset from center camera angle value.\n",
    "        new_measurement = 0.22\n",
    "        left_measurement = measurement + new_measurement\n",
    "        right_measurement = measurement - new_measurement\n",
    "        \n",
    "        # Since the track on which data is recorded and even though we have one lap of reverse driving on track, \n",
    "        # we need to randomly flip the images so that values of steering angle are evenly balanced around value 0 \n",
    "        # (i.e. approximately equal number of -ve and +ve steering values)\n",
    "        if random.randint(0,3) == 1:\n",
    "            center_image = np.fliplr(center_image)\n",
    "            measurement = -measurement\n",
    "        if random.randint(0,3) == 3:\n",
    "            left_image = np.fliplr(left_image)\n",
    "            left_measurement = -left_measurement\n",
    "        if random.randint(0,3) == 2:\n",
    "            right_image = np.fliplr(right_image)\n",
    "            right_measurement = -right_measurement\n",
    "        \n",
    "        images.extend((center_image, left_image, right_image))\n",
    "        measurements.extend((measurement, left_measurement, right_measurement))\n",
    "        \n",
    "    return images, measurements\n",
    "\n",
    "# Read both Images and measurement of steering angles into NP array.\n",
    "lines = read_csv_files()   \n",
    "input_images, input_measurements = read_images()\n"
   ]
  },
  {
   "cell_type": "code",
   "execution_count": 3,
   "metadata": {},
   "outputs": [
    {
     "name": "stdout",
     "output_type": "stream",
     "text": [
      "<class 'numpy.ndarray'> (59016, 160, 320, 3)\n"
     ]
    }
   ],
   "source": [
    "X_train = np.array(input_images)\n",
    "Y_train = np.array(input_measurements)\n",
    "\n",
    "skl.utils.shuffle(X_train, Y_train)\n",
    "print (type(X_train), X_train.shape)"
   ]
  },
  {
   "cell_type": "code",
   "execution_count": 4,
   "metadata": {},
   "outputs": [
    {
     "name": "stdout",
     "output_type": "stream",
     "text": [
      "Train on 47212 samples, validate on 11804 samples\n",
      "Epoch 1/7\n",
      "47212/47212 [==============================] - 285s - loss: 0.0208 - val_loss: 0.0183\n",
      "Epoch 2/7\n",
      "47212/47212 [==============================] - 288s - loss: 0.0189 - val_loss: 0.0172\n",
      "Epoch 3/7\n",
      "47212/47212 [==============================] - 285s - loss: 0.0182 - val_loss: 0.0179\n",
      "Epoch 4/7\n",
      "47212/47212 [==============================] - 287s - loss: 0.0175 - val_loss: 0.0185\n",
      "Epoch 5/7\n",
      "47212/47212 [==============================] - 288s - loss: 0.0168 - val_loss: 0.0184\n",
      "Epoch 6/7\n",
      "47212/47212 [==============================] - 288s - loss: 0.0164 - val_loss: 0.0180\n",
      "Epoch 7/7\n",
      "47212/47212 [==============================] - 288s - loss: 0.0157 - val_loss: 0.0183\n"
     ]
    }
   ],
   "source": [
    "\n",
    "model = Sequential()\n",
    "model.add(Cropping2D(((70,25), (0,0)), input_shape=(160,320,3)))\n",
    "model.add(Lambda(lambda x: (x / 255.) - 0.5))\n",
    "\n",
    "# NVIDIA End-to-end Self driving cars\n",
    "\n",
    "#apply a 5x5 convolution with 24 output filters on a 160x320x3 image:\n",
    "model.add(Convolution2D( 24, 5, 5, subsample=(2, 2), border_mode=\"valid\", activation=\"relu\"))\n",
    "#apply a 5x5 convolution with 36 output filters\n",
    "model.add(Convolution2D( 36, 5, 5, subsample=(2, 2), border_mode=\"valid\", activation=\"relu\"))\n",
    "#apply a 5x5 convolution with 48 output filters\n",
    "model.add(Convolution2D( 48, 5, 5, subsample=(2, 2), border_mode=\"valid\", activation=\"relu\"))\n",
    "#apply a 3x3 convolution with 64 output filters\n",
    "model.add(Convolution2D( 64, 3, 3, subsample=(1, 1), border_mode=\"valid\", activation=\"relu\"))\n",
    "#apply a 3x3 convolution with 64 output filters\n",
    "model.add(Convolution2D( 64, 3, 3, subsample=(1, 1), border_mode=\"valid\", activation=\"relu\"))\n",
    "\n",
    "model.add(Flatten())\n",
    "model.add(Dense(100))\n",
    "model.add(Dense(50))\n",
    "model.add(Dense(10))\n",
    "model.add(Dense(1))\n",
    "\n",
    "model.compile(loss='mse', optimizer='adam')\n",
    "\n",
    "# Saving the model into a history object to find loss trend for training and validation sets.\n",
    "history_object = model.fit(X_train, Y_train, validation_split=0.2, shuffle=True, nb_epoch=7)\n",
    "\n",
    "model.save('model.h5')"
   ]
  },
  {
   "cell_type": "code",
   "execution_count": 5,
   "metadata": {},
   "outputs": [
    {
     "name": "stdout",
     "output_type": "stream",
     "text": [
      "dict_keys(['loss', 'val_loss'])\n"
     ]
    },
    {
     "data": {
      "image/png": "[encoded data removed]",
      "text/plain": [
       "<matplotlib.figure.Figure at 0x7f0e430ed6a0>"
      ]
     },
     "metadata": {},
     "output_type": "display_data"
    }
   ],
   "source": [
    "### print the keys contained in the history object\n",
    "\n",
    "print(history_object.history.keys())\n",
    "\n",
    "### plot the training and validation loss for each epoch\n",
    "plt.plot(history_object.history['loss'])\n",
    "plt.plot(history_object.history['val_loss'])\n",
    "plt.title('model mean squared error loss')\n",
    "plt.ylabel('mean squared error loss')\n",
    "plt.xlabel('epoch')\n",
    "plt.legend(['training set', 'validation set'], loc='upper right')\n",
    "plt.show()"
   ]
  }
 ],
 "metadata": {
  "kernelspec": {
   "display_name": "Python 3",
   "language": "python",
   "name": "python3"
  },
  "language_info": {
   "codemirror_mode": {
    "name": "ipython",
    "version": 3
   },
   "file_extension": ".py",
   "mimetype": "text/x-python",
   "name": "python",
   "nbconvert_exporter": "python",
   "pygments_lexer": "ipython3",
   "version": "3.5.2"
  },
  "widgets": {
   "state": {},
   "version": "1.1.2"
  }
 },
 "nbformat": 4,
 "nbformat_minor": 2
}
