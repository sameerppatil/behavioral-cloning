{
 "cells": [
  {
   "cell_type": "code",
   "execution_count": 10,
   "metadata": {},
   "outputs": [],
   "source": [
    "import csv\n",
    "import cv2\n",
    "\n",
    "import numpy as np\n",
    "from keras.models import Sequential\n",
    "from keras.layers import Flatten, Dense. Lambda\n"
   ]
  },
  {
   "cell_type": "code",
   "execution_count": 24,
   "metadata": {},
   "outputs": [
    {
     "name": "stdout",
     "output_type": "stream",
     "text": [
      "<class 'numpy.ndarray'> (8036, 160, 320, 3)\n",
      "Train on 6428 samples, validate on 1608 samples\n",
      "Epoch 1/7\n",
      "6428/6428 [==============================] - 13s - loss: 1.6746 - val_loss: 3.1300\n",
      "Epoch 2/7\n",
      "6428/6428 [==============================] - 11s - loss: 3.6259 - val_loss: 3.6501\n",
      "Epoch 3/7\n",
      "6428/6428 [==============================] - 11s - loss: 4.2744 - val_loss: 1.8451\n",
      "Epoch 4/7\n",
      "6428/6428 [==============================] - 10s - loss: 3.7975 - val_loss: 4.1342\n",
      "Epoch 5/7\n",
      "6428/6428 [==============================] - 10s - loss: 4.9399 - val_loss: 4.5457\n",
      "Epoch 6/7\n",
      "6428/6428 [==============================] - 9s - loss: 3.8418 - val_loss: 4.6521\n",
      "Epoch 7/7\n",
      "6428/6428 [==============================] - 8s - loss: 2.4124 - val_loss: 1.6077\n"
     ]
    }
   ],
   "source": [
    "lines = []\n",
    "\n",
    "with open('data/driving_log.csv') as csvfile:\n",
    "    reader = csv.reader(csvfile)\n",
    "    for line in reader:\n",
    "        lines.append(line)\n",
    "        \n",
    "images = []\n",
    "measurements= []\n",
    "for line in lines:\n",
    "    source_path = line[0]\n",
    "    filename = source_path.split('/')[-1]\n",
    "    current_path = 'data/IMG/' + filename\n",
    "    \n",
    "    image = cv2.imread(current_path)\n",
    "    images.append(image)\n",
    "    measurement = float(line[3])\n",
    "    measurements.append(measurement)\n",
    "\n",
    "X_train = np.array(images)\n",
    "Y_train = np.array(measurements)\n",
    "\n",
    "print (type(X_train), X_train.shape)\n",
    "\n",
    "model = Sequential()\n",
    "model.add(Lambda(lambda x: (x /255.0) - 0.5, input_shape=(160,320,3)))\n",
    "model.add(Flatten())\n",
    "model.add(Dense(1))\n",
    "\n",
    "model.compile(loss='mse', optimizer='adam')\n",
    "model.fit(X_train, Y_train, validation_split=0.2, shuffle=True, nb_epoch=7)\n",
    "\n",
    "model.save('model.h5')"
   ]
  }
 ],
 "metadata": {
  "kernelspec": {
   "display_name": "Python 3",
   "language": "python",
   "name": "python3"
  },
  "language_info": {
   "codemirror_mode": {
    "name": "ipython",
    "version": 3
   },
   "file_extension": ".py",
   "mimetype": "text/x-python",
   "name": "python",
   "nbconvert_exporter": "python",
   "pygments_lexer": "ipython3",
   "version": "3.5.2"
  },
  "widgets": {
   "state": {},
   "version": "1.1.2"
  }
 },
 "nbformat": 4,
 "nbformat_minor": 2
}
