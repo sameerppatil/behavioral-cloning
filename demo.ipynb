{
 "cells": [
  {
   "cell_type": "code",
   "execution_count": 16,
   "metadata": {
    "collapsed": true
   },
   "outputs": [],
   "source": [
    "import csv\n",
    "import cv2\n",
    "\n",
    "import numpy as np\n",
    "from keras.models import Sequential\n",
    "from keras.layers import Flatten, Dense, Lambda\n",
    "from keras.layers import Convolution2D\n",
    "from keras.layers.pooling import MaxPooling2D\n"
   ]
  },
  {
   "cell_type": "code",
   "execution_count": 17,
   "metadata": {
    "collapsed": true
   },
   "outputs": [],
   "source": [
    "def read_csv_files():\n",
    "    lines = []\n",
    "    with open('data/driving_log.csv') as csvfile:\n",
    "        reader = csv.reader(csvfile)\n",
    "        for line in reader:\n",
    "            lines.append(line)\n",
    "    return lines\n",
    "\n",
    "def read_images():\n",
    "    images = []\n",
    "    measurements= []\n",
    "    for line in lines:\n",
    "        source_path = line[0]\n",
    "        filename = source_path.split('/')[-1]\n",
    "        current_path = 'data/IMG/' + filename\n",
    "\n",
    "        image = cv2.imread(current_path)\n",
    "        images.append(image)\n",
    "        measurement = float(line[3])\n",
    "        measurements.append(measurement)\n",
    "    \n",
    "    return images, measurements\n",
    "\n",
    "lines = read_csv_files()   \n",
    "input_images, input_measurements = read_images()"
   ]
  },
  {
   "cell_type": "code",
   "execution_count": 22,
   "metadata": {},
   "outputs": [
    {
     "name": "stdout",
     "output_type": "stream",
     "text": [
      "<class 'numpy.ndarray'> (8036, 160, 320, 3)\n",
      "Train on 6428 samples, validate on 1608 samples\n",
      "Epoch 1/7\n",
      "6428/6428 [==============================] - 66s - loss: 0.0165 - val_loss: 0.0117\n",
      "Epoch 2/7\n",
      "6428/6428 [==============================] - 65s - loss: 0.0104 - val_loss: 0.0112\n",
      "Epoch 3/7\n",
      "6428/6428 [==============================] - 65s - loss: 0.0095 - val_loss: 0.0115\n",
      "Epoch 4/7\n",
      "6428/6428 [==============================] - 65s - loss: 0.0087 - val_loss: 0.0111\n",
      "Epoch 5/7\n",
      "6428/6428 [==============================] - 64s - loss: 0.0082 - val_loss: 0.0113\n",
      "Epoch 6/7\n",
      "6428/6428 [==============================] - 65s - loss: 0.0079 - val_loss: 0.0112\n",
      "Epoch 7/7\n",
      "6428/6428 [==============================] - 66s - loss: 0.0073 - val_loss: 0.0119\n"
     ]
    }
   ],
   "source": [
    "X_train = np.array(input_images)\n",
    "Y_train = np.array(input_measurements)\n",
    "\n",
    "print (type(X_train), X_train.shape)\n",
    "\n",
    "model = Sequential()\n",
    "model.add(Cropping2D(((70,25), (0,0)), input_shape=(160,320,3)))\n",
    "model.add(Lambda(lambda x: (x / 255.) - 0.5))\n",
    "model.add(Convolution2D(6,5,5, activation=\"relu\"))\n",
    "model.add(MaxPooling2D())\n",
    "model.add(Convolution2D(6,5,5, activation=\"relu\"))\n",
    "model.add(MaxPooling2D())\n",
    "model.add(Flatten())\n",
    "model.add(Dense(1))\n",
    "\n",
    "model.compile(loss='mse', optimizer='adam')\n",
    "model.fit(X_train, Y_train, validation_split=0.2, shuffle=True, nb_epoch=7)\n",
    "\n",
    "model.save('model.h5')"
   ]
  }
 ],
 "metadata": {
  "kernelspec": {
   "display_name": "Python 3",
   "language": "python",
   "name": "python3"
  },
  "language_info": {
   "codemirror_mode": {
    "name": "ipython",
    "version": 3
   },
   "file_extension": ".py",
   "mimetype": "text/x-python",
   "name": "python",
   "nbconvert_exporter": "python",
   "pygments_lexer": "ipython3",
   "version": "3.5.2"
  },
  "widgets": {
   "state": {},
   "version": "1.1.2"
  }
 },
 "nbformat": 4,
 "nbformat_minor": 2
}
